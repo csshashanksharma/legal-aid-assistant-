{
 "cells": [
  {
   "cell_type": "code",
   "execution_count": 4,
   "id": "2617ae5f",
   "metadata": {},
   "outputs": [
    {
     "data": {
      "application/vnd.jupyter.widget-view+json": {
       "model_id": "3a29f8cc6d744063ad223ec021462dc5",
       "version_major": 2,
       "version_minor": 0
      },
      "text/plain": [
       "README.md:   0%|          | 0.00/909 [00:00<?, ?B/s]"
      ]
     },
     "metadata": {},
     "output_type": "display_data"
    },
    {
     "data": {
      "application/vnd.jupyter.widget-view+json": {
       "model_id": "2562e94d316148089d7485729c1204b3",
       "version_major": 2,
       "version_minor": 0
      },
      "text/plain": [
       "data/central-00000-of-00001.parquet:   0%|          | 0.00/23.9M [00:00<?, ?B/s]"
      ]
     },
     "metadata": {},
     "output_type": "display_data"
    },
    {
     "data": {
      "application/vnd.jupyter.widget-view+json": {
       "model_id": "400191f8983049999dd08ff1313d31e1",
       "version_major": 2,
       "version_minor": 0
      },
      "text/plain": [
       "data/andaman_and_nicobar_islands-00000-o(…):   0%|          | 0.00/3.07M [00:00<?, ?B/s]"
      ]
     },
     "metadata": {},
     "output_type": "display_data"
    },
    {
     "data": {
      "application/vnd.jupyter.widget-view+json": {
       "model_id": "10d6ad0dd7c84237bf1f152c184b8484",
       "version_major": 2,
       "version_minor": 0
      },
      "text/plain": [
       "data/andhra_pradesh-00000-of-00001.parqu(…):   0%|          | 0.00/3.93M [00:00<?, ?B/s]"
      ]
     },
     "metadata": {},
     "output_type": "display_data"
    },
    {
     "data": {
      "application/vnd.jupyter.widget-view+json": {
       "model_id": "b5584818b0da4ee2a6c584347d23961c",
       "version_major": 2,
       "version_minor": 0
      },
      "text/plain": [
       "data/arunachal_pradesh-00000-of-00001.pa(…):   0%|          | 0.00/6.97M [00:00<?, ?B/s]"
      ]
     },
     "metadata": {},
     "output_type": "display_data"
    },
    {
     "data": {
      "application/vnd.jupyter.widget-view+json": {
       "model_id": "00e1b84bd5f84563afdc61055cccf8af",
       "version_major": 2,
       "version_minor": 0
      },
      "text/plain": [
       "Generating central split:   0%|          | 0/883 [00:00<?, ? examples/s]"
      ]
     },
     "metadata": {},
     "output_type": "display_data"
    },
    {
     "data": {
      "application/vnd.jupyter.widget-view+json": {
       "model_id": "812b9586a33b491eb5996c7ec8b09eb5",
       "version_major": 2,
       "version_minor": 0
      },
      "text/plain": [
       "Generating andaman_and_nicobar_islands split:   0%|          | 0/66 [00:00<?, ? examples/s]"
      ]
     },
     "metadata": {},
     "output_type": "display_data"
    },
    {
     "data": {
      "application/vnd.jupyter.widget-view+json": {
       "model_id": "6826799ad204447e99c5aa4169e4cab8",
       "version_major": 2,
       "version_minor": 0
      },
      "text/plain": [
       "Generating andhra_pradesh split:   0%|          | 0/323 [00:00<?, ? examples/s]"
      ]
     },
     "metadata": {},
     "output_type": "display_data"
    },
    {
     "data": {
      "application/vnd.jupyter.widget-view+json": {
       "model_id": "d1033b418387419280eb104fe1b66dae",
       "version_major": 2,
       "version_minor": 0
      },
      "text/plain": [
       "Generating arunachal_pradesh split:   0%|          | 0/1111 [00:00<?, ? examples/s]"
      ]
     },
     "metadata": {},
     "output_type": "display_data"
    }
   ],
   "source": [
    "from datasets import load_dataset\n",
    "\n",
    "ds = load_dataset(\"geekyrakshit/indian-legal-acts\")"
   ]
  },
  {
   "cell_type": "code",
   "execution_count": 5,
   "id": "2eca1f50",
   "metadata": {},
   "outputs": [
    {
     "name": "stdout",
     "output_type": "stream",
     "text": [
      "dict_keys(['central', 'andaman_and_nicobar_islands', 'andhra_pradesh', 'arunachal_pradesh'])\n"
     ]
    }
   ],
   "source": [
    "print(ds.keys())"
   ]
  },
  {
   "cell_type": "code",
   "execution_count": 9,
   "id": "cc505294",
   "metadata": {},
   "outputs": [
    {
     "name": "stdout",
     "output_type": "stream",
     "text": [
      "DatasetDict({\n",
      "    central: Dataset({\n",
      "        features: ['Enactment Date', 'Act Number', 'Short Title', 'View', 'Entity', 'Markdown'],\n",
      "        num_rows: 883\n",
      "    })\n",
      "    andaman_and_nicobar_islands: Dataset({\n",
      "        features: ['Enactment Date', 'Act Number', 'Short Title', 'View', 'Entity', 'Markdown'],\n",
      "        num_rows: 66\n",
      "    })\n",
      "    andhra_pradesh: Dataset({\n",
      "        features: ['Enactment Date', 'Act Number', 'Short Title', 'View', 'Entity', 'Markdown'],\n",
      "        num_rows: 323\n",
      "    })\n",
      "    arunachal_pradesh: Dataset({\n",
      "        features: ['Enactment Date', 'Act Number', 'Short Title', 'View', 'Entity', 'Markdown'],\n",
      "        num_rows: 1111\n",
      "    })\n",
      "})\n"
     ]
    }
   ],
   "source": [
    "print(ds)  # ds is your loaded dataset object\n"
   ]
  },
  {
   "cell_type": "code",
   "execution_count": 10,
   "id": "8f040b5b",
   "metadata": {},
   "outputs": [
    {
     "name": "stdout",
     "output_type": "stream",
     "text": [
      "  Enactment Date Act Number  \\\n",
      "0    14-Mar-1838         05   \n",
      "1    27-Aug-1838         19   \n",
      "2    18-Mar-1839         07   \n",
      "3    28-Oct-1842         13   \n",
      "4    16-Dec-1842         17   \n",
      "\n",
      "                                         Short Title  \\\n",
      "0  The Bengal Bonded Warehouse Association Act, 1838   \n",
      "1                     The Coasting vessels Act, 1838   \n",
      "2        The Madras Rent and Revenue Sales Act, 1839   \n",
      "3                          The Revenue, Bombay, 1842   \n",
      "4        The Revenue Commissioners, Bombay Act, 1842   \n",
      "\n",
      "                                                View   Entity  \\\n",
      "0  https://www.indiacode.nic.in/bitstream/1234567...  central   \n",
      "1  https://www.indiacode.nic.in/bitstream/1234567...  central   \n",
      "2  https://www.indiacode.nic.in/bitstream/1234567...  central   \n",
      "3  https://www.indiacode.nic.in/bitstream/1234567...  central   \n",
      "4  https://www.indiacode.nic.in/bitstream/1234567...  central   \n",
      "\n",
      "                                            Markdown  \n",
      "0  # THE BENGAL BONDED WAREHOUSE ASSOCIATION ACT\\...  \n",
      "1  # THE COASTING-VESSELS ACT, 1838\\n __________\\...  \n",
      "2  THE MADRAS RENT AND REVENUE SALES ACT, 1839\\n\\...  \n",
      "3  # THE REVENUE, BOMBAY, 1842\\n __________\\n\\n A...  \n",
      "4  # THE REVENUE COMMISSIONERS, BOMBAY ACT, 1842\\...  \n",
      "<class 'pandas.core.frame.DataFrame'>\n",
      "RangeIndex: 883 entries, 0 to 882\n",
      "Data columns (total 6 columns):\n",
      " #   Column          Non-Null Count  Dtype \n",
      "---  ------          --------------  ----- \n",
      " 0   Enactment Date  883 non-null    object\n",
      " 1   Act Number      883 non-null    object\n",
      " 2   Short Title     883 non-null    object\n",
      " 3   View            883 non-null    object\n",
      " 4   Entity          883 non-null    object\n",
      " 5   Markdown        881 non-null    object\n",
      "dtypes: object(6)\n",
      "memory usage: 41.5+ KB\n",
      "None\n",
      "       Enactment Date Act Number                       Short Title  \\\n",
      "count             883        883                               883   \n",
      "unique            739         85                               882   \n",
      "top       23-Jun-2005         30  The Powers-of Attorney Act, 1882   \n",
      "freq                6         24                                 2   \n",
      "\n",
      "                                                     View   Entity  \\\n",
      "count                                                 883      883   \n",
      "unique                                                881        1   \n",
      "top     https://www.indiacode.nic.in/bitstream/1234567...  central   \n",
      "freq                                                    2      883   \n",
      "\n",
      "                                                 Markdown  \n",
      "count                                                 881  \n",
      "unique                                                881  \n",
      "top     # THE CENTRAL BOARDS OF REVENUE ACT, 1963\\n\\n ...  \n",
      "freq                                                    1  \n"
     ]
    }
   ],
   "source": [
    "# For example, inspect 'central'\n",
    "central_df = pd.DataFrame(ds['central'])\n",
    "print(central_df.head())\n",
    "print(central_df.info())   # column types and missing values\n",
    "print(central_df.describe())  # summary stats for numeric columns (if any)\n"
   ]
  },
  {
   "cell_type": "code",
   "execution_count": 8,
   "id": "cb961295",
   "metadata": {},
   "outputs": [
    {
     "name": "stdout",
     "output_type": "stream",
     "text": [
      "  Enactment Date Act Number  \\\n",
      "0    14-Mar-1838         05   \n",
      "1    27-Aug-1838         19   \n",
      "2    18-Mar-1839         07   \n",
      "3    28-Oct-1842         13   \n",
      "4    16-Dec-1842         17   \n",
      "\n",
      "                                         Short Title  \\\n",
      "0  The Bengal Bonded Warehouse Association Act, 1838   \n",
      "1                     The Coasting vessels Act, 1838   \n",
      "2        The Madras Rent and Revenue Sales Act, 1839   \n",
      "3                          The Revenue, Bombay, 1842   \n",
      "4        The Revenue Commissioners, Bombay Act, 1842   \n",
      "\n",
      "                                                View   Entity  \\\n",
      "0  https://www.indiacode.nic.in/bitstream/1234567...  central   \n",
      "1  https://www.indiacode.nic.in/bitstream/1234567...  central   \n",
      "2  https://www.indiacode.nic.in/bitstream/1234567...  central   \n",
      "3  https://www.indiacode.nic.in/bitstream/1234567...  central   \n",
      "4  https://www.indiacode.nic.in/bitstream/1234567...  central   \n",
      "\n",
      "                                            Markdown  \n",
      "0  # THE BENGAL BONDED WAREHOUSE ASSOCIATION ACT\\...  \n",
      "1  # THE COASTING-VESSELS ACT, 1838\\n __________\\...  \n",
      "2  THE MADRAS RENT AND REVENUE SALES ACT, 1839\\n\\...  \n",
      "3  # THE REVENUE, BOMBAY, 1842\\n __________\\n\\n A...  \n",
      "4  # THE REVENUE COMMISSIONERS, BOMBAY ACT, 1842\\...  \n"
     ]
    }
   ],
   "source": [
    "# Access one key (say central)\n",
    "import pandas as pd\n",
    "df_central = pd.DataFrame(ds['central'])\n",
    "print(df_central.head(5))\n"
   ]
  },
  {
   "cell_type": "code",
   "execution_count": 11,
   "id": "11fd76f3",
   "metadata": {},
   "outputs": [
    {
     "name": "stdout",
     "output_type": "stream",
     "text": [
      "Columns in central: ['Enactment Date', 'Act Number', 'Short Title', 'View', 'Entity', 'Markdown']\n",
      "Columns in andaman_and_nicobar_islands: ['Enactment Date', 'Act Number', 'Short Title', 'View', 'Entity', 'Markdown']\n",
      "Columns in andhra_pradesh: ['Enactment Date', 'Act Number', 'Short Title', 'View', 'Entity', 'Markdown']\n",
      "Columns in arunachal_pradesh: ['Enactment Date', 'Act Number', 'Short Title', 'View', 'Entity', 'Markdown']\n"
     ]
    }
   ],
   "source": [
    "for key in ds.keys():\n",
    "    print(f\"Columns in {key}: {ds[key].column_names}\")\n"
   ]
  },
  {
   "cell_type": "code",
   "execution_count": 12,
   "id": "7202763f",
   "metadata": {},
   "outputs": [
    {
     "name": "stdout",
     "output_type": "stream",
     "text": [
      "(2383, 6)\n",
      "  Enactment Date Act Number  \\\n",
      "0    14-Mar-1838         05   \n",
      "1    27-Aug-1838         19   \n",
      "2    18-Mar-1839         07   \n",
      "3    28-Oct-1842         13   \n",
      "4    16-Dec-1842         17   \n",
      "\n",
      "                                         Short Title  \\\n",
      "0  The Bengal Bonded Warehouse Association Act, 1838   \n",
      "1                     The Coasting vessels Act, 1838   \n",
      "2        The Madras Rent and Revenue Sales Act, 1839   \n",
      "3                          The Revenue, Bombay, 1842   \n",
      "4        The Revenue Commissioners, Bombay Act, 1842   \n",
      "\n",
      "                                                View   Entity  \\\n",
      "0  https://www.indiacode.nic.in/bitstream/1234567...  central   \n",
      "1  https://www.indiacode.nic.in/bitstream/1234567...  central   \n",
      "2  https://www.indiacode.nic.in/bitstream/1234567...  central   \n",
      "3  https://www.indiacode.nic.in/bitstream/1234567...  central   \n",
      "4  https://www.indiacode.nic.in/bitstream/1234567...  central   \n",
      "\n",
      "                                            Markdown  \n",
      "0  # THE BENGAL BONDED WAREHOUSE ASSOCIATION ACT\\...  \n",
      "1  # THE COASTING-VESSELS ACT, 1838\\n __________\\...  \n",
      "2  THE MADRAS RENT AND REVENUE SALES ACT, 1839\\n\\...  \n",
      "3  # THE REVENUE, BOMBAY, 1842\\n __________\\n\\n A...  \n",
      "4  # THE REVENUE COMMISSIONERS, BOMBAY ACT, 1842\\...  \n"
     ]
    }
   ],
   "source": [
    "import pandas as pd\n",
    "\n",
    "all_dfs = [pd.DataFrame(ds[key]) for key in ds.keys()]\n",
    "full_df = pd.concat(all_dfs, ignore_index=True)\n",
    "print(full_df.shape)\n",
    "print(full_df.head())\n"
   ]
  },
  {
   "cell_type": "code",
   "execution_count": 15,
   "id": "5e48cc80",
   "metadata": {},
   "outputs": [
    {
     "name": "stdout",
     "output_type": "stream",
     "text": [
      "(2378, 6)\n"
     ]
    }
   ],
   "source": [
    "full_df = full_df.dropna(subset=['Markdown'])\n",
    "print(full_df.shape)"
   ]
  },
  {
   "cell_type": "code",
   "execution_count": 16,
   "id": "1e120f10",
   "metadata": {},
   "outputs": [
    {
     "name": "stdout",
     "output_type": "stream",
     "text": [
      "Enactment Date    0\n",
      "Act Number        0\n",
      "Short Title       0\n",
      "View              0\n",
      "Entity            0\n",
      "Markdown          0\n",
      "dtype: int64\n"
     ]
    }
   ],
   "source": [
    "print(full_df.isnull().sum())\n"
   ]
  },
  {
   "cell_type": "code",
   "execution_count": 18,
   "id": "b213dec6",
   "metadata": {},
   "outputs": [
    {
     "data": {
      "text/html": [
       "<div>\n",
       "<style scoped>\n",
       "    .dataframe tbody tr th:only-of-type {\n",
       "        vertical-align: middle;\n",
       "    }\n",
       "\n",
       "    .dataframe tbody tr th {\n",
       "        vertical-align: top;\n",
       "    }\n",
       "\n",
       "    .dataframe thead th {\n",
       "        text-align: right;\n",
       "    }\n",
       "</style>\n",
       "<table border=\"1\" class=\"dataframe\">\n",
       "  <thead>\n",
       "    <tr style=\"text-align: right;\">\n",
       "      <th></th>\n",
       "      <th>Enactment Date</th>\n",
       "      <th>Act Number</th>\n",
       "      <th>Short Title</th>\n",
       "      <th>View</th>\n",
       "      <th>Entity</th>\n",
       "      <th>Markdown</th>\n",
       "    </tr>\n",
       "  </thead>\n",
       "  <tbody>\n",
       "    <tr>\n",
       "      <th>0</th>\n",
       "      <td>14-Mar-1838</td>\n",
       "      <td>05</td>\n",
       "      <td>The Bengal Bonded Warehouse Association Act, 1838</td>\n",
       "      <td>https://www.indiacode.nic.in/bitstream/1234567...</td>\n",
       "      <td>central</td>\n",
       "      <td># THE BENGAL BONDED WAREHOUSE ASSOCIATION ACT\\...</td>\n",
       "    </tr>\n",
       "    <tr>\n",
       "      <th>1</th>\n",
       "      <td>27-Aug-1838</td>\n",
       "      <td>19</td>\n",
       "      <td>The Coasting vessels Act, 1838</td>\n",
       "      <td>https://www.indiacode.nic.in/bitstream/1234567...</td>\n",
       "      <td>central</td>\n",
       "      <td># THE COASTING-VESSELS ACT, 1838\\n __________\\...</td>\n",
       "    </tr>\n",
       "    <tr>\n",
       "      <th>2</th>\n",
       "      <td>18-Mar-1839</td>\n",
       "      <td>07</td>\n",
       "      <td>The Madras Rent and Revenue Sales Act, 1839</td>\n",
       "      <td>https://www.indiacode.nic.in/bitstream/1234567...</td>\n",
       "      <td>central</td>\n",
       "      <td>THE MADRAS RENT AND REVENUE SALES ACT, 1839\\n\\...</td>\n",
       "    </tr>\n",
       "    <tr>\n",
       "      <th>3</th>\n",
       "      <td>28-Oct-1842</td>\n",
       "      <td>13</td>\n",
       "      <td>The Revenue, Bombay, 1842</td>\n",
       "      <td>https://www.indiacode.nic.in/bitstream/1234567...</td>\n",
       "      <td>central</td>\n",
       "      <td># THE REVENUE, BOMBAY, 1842\\n __________\\n\\n A...</td>\n",
       "    </tr>\n",
       "    <tr>\n",
       "      <th>4</th>\n",
       "      <td>16-Dec-1842</td>\n",
       "      <td>17</td>\n",
       "      <td>The Revenue Commissioners, Bombay Act, 1842</td>\n",
       "      <td>https://www.indiacode.nic.in/bitstream/1234567...</td>\n",
       "      <td>central</td>\n",
       "      <td># THE REVENUE COMMISSIONERS, BOMBAY ACT, 1842\\...</td>\n",
       "    </tr>\n",
       "    <tr>\n",
       "      <th>5</th>\n",
       "      <td>7-Jan-1846</td>\n",
       "      <td>03</td>\n",
       "      <td>The Boundary-Marks, Bombay 1846</td>\n",
       "      <td>https://www.indiacode.nic.in/bitstream/1234567...</td>\n",
       "      <td>central</td>\n",
       "      <td># THE BOUNDARY-MARKS, BOMBAY 1846\\n\\nACT NO. I...</td>\n",
       "    </tr>\n",
       "    <tr>\n",
       "      <th>6</th>\n",
       "      <td>23-Sep-1848</td>\n",
       "      <td>20</td>\n",
       "      <td>The Bengal Land Holder's Attendance Act, 1848</td>\n",
       "      <td>https://www.indiacode.nic.in/bitstream/1234567...</td>\n",
       "      <td>central</td>\n",
       "      <td># THE BENGAL LAND HOLDER’ ATTENDANCE ACT, 1848...</td>\n",
       "    </tr>\n",
       "    <tr>\n",
       "      <th>7</th>\n",
       "      <td>26-May-1849</td>\n",
       "      <td>10</td>\n",
       "      <td>The Madras Board of Revenue,1849</td>\n",
       "      <td>https://www.indiacode.nic.in/bitstream/1234567...</td>\n",
       "      <td>central</td>\n",
       "      <td># MADRAS.—BOARD OF REVENUE.\\n\\n ACT NO. X OF 1...</td>\n",
       "    </tr>\n",
       "    <tr>\n",
       "      <th>8</th>\n",
       "      <td>14-Jun-1850</td>\n",
       "      <td>25</td>\n",
       "      <td>The Forfeited Deposits Act, 1850</td>\n",
       "      <td>https://www.indiacode.nic.in/bitstream/1234567...</td>\n",
       "      <td>central</td>\n",
       "      <td># THE FORFEITED DEPOSITS ACT, 1850\\n\\n## _____...</td>\n",
       "    </tr>\n",
       "    <tr>\n",
       "      <th>9</th>\n",
       "      <td>21-Jun-1850</td>\n",
       "      <td>26</td>\n",
       "      <td>The Improvements in Towns Act, 1850</td>\n",
       "      <td>https://www.indiacode.nic.in/bitstream/1234567...</td>\n",
       "      <td>central</td>\n",
       "      <td># THE IMPROVEMENTS IN TOWNS ACT, 1850\\n\\nACT N...</td>\n",
       "    </tr>\n",
       "  </tbody>\n",
       "</table>\n",
       "</div>"
      ],
      "text/plain": [
       "  Enactment Date Act Number  \\\n",
       "0    14-Mar-1838         05   \n",
       "1    27-Aug-1838         19   \n",
       "2    18-Mar-1839         07   \n",
       "3    28-Oct-1842         13   \n",
       "4    16-Dec-1842         17   \n",
       "5     7-Jan-1846         03   \n",
       "6    23-Sep-1848         20   \n",
       "7    26-May-1849         10   \n",
       "8    14-Jun-1850         25   \n",
       "9    21-Jun-1850         26   \n",
       "\n",
       "                                         Short Title  \\\n",
       "0  The Bengal Bonded Warehouse Association Act, 1838   \n",
       "1                     The Coasting vessels Act, 1838   \n",
       "2        The Madras Rent and Revenue Sales Act, 1839   \n",
       "3                          The Revenue, Bombay, 1842   \n",
       "4        The Revenue Commissioners, Bombay Act, 1842   \n",
       "5                    The Boundary-Marks, Bombay 1846   \n",
       "6      The Bengal Land Holder's Attendance Act, 1848   \n",
       "7                   The Madras Board of Revenue,1849   \n",
       "8                   The Forfeited Deposits Act, 1850   \n",
       "9                The Improvements in Towns Act, 1850   \n",
       "\n",
       "                                                View   Entity  \\\n",
       "0  https://www.indiacode.nic.in/bitstream/1234567...  central   \n",
       "1  https://www.indiacode.nic.in/bitstream/1234567...  central   \n",
       "2  https://www.indiacode.nic.in/bitstream/1234567...  central   \n",
       "3  https://www.indiacode.nic.in/bitstream/1234567...  central   \n",
       "4  https://www.indiacode.nic.in/bitstream/1234567...  central   \n",
       "5  https://www.indiacode.nic.in/bitstream/1234567...  central   \n",
       "6  https://www.indiacode.nic.in/bitstream/1234567...  central   \n",
       "7  https://www.indiacode.nic.in/bitstream/1234567...  central   \n",
       "8  https://www.indiacode.nic.in/bitstream/1234567...  central   \n",
       "9  https://www.indiacode.nic.in/bitstream/1234567...  central   \n",
       "\n",
       "                                            Markdown  \n",
       "0  # THE BENGAL BONDED WAREHOUSE ASSOCIATION ACT\\...  \n",
       "1  # THE COASTING-VESSELS ACT, 1838\\n __________\\...  \n",
       "2  THE MADRAS RENT AND REVENUE SALES ACT, 1839\\n\\...  \n",
       "3  # THE REVENUE, BOMBAY, 1842\\n __________\\n\\n A...  \n",
       "4  # THE REVENUE COMMISSIONERS, BOMBAY ACT, 1842\\...  \n",
       "5  # THE BOUNDARY-MARKS, BOMBAY 1846\\n\\nACT NO. I...  \n",
       "6  # THE BENGAL LAND HOLDER’ ATTENDANCE ACT, 1848...  \n",
       "7  # MADRAS.—BOARD OF REVENUE.\\n\\n ACT NO. X OF 1...  \n",
       "8  # THE FORFEITED DEPOSITS ACT, 1850\\n\\n## _____...  \n",
       "9  # THE IMPROVEMENTS IN TOWNS ACT, 1850\\n\\nACT N...  "
      ]
     },
     "execution_count": 18,
     "metadata": {},
     "output_type": "execute_result"
    }
   ],
   "source": [
    "full_df.head(10)"
   ]
  },
  {
   "cell_type": "code",
   "execution_count": 19,
   "id": "c4fc2bd9",
   "metadata": {},
   "outputs": [],
   "source": [
    "import re\n",
    "\n",
    "def clean_text(text):\n",
    "    text = str(text).lower()\n",
    "    text = re.sub(r'\\s+', ' ', text)  # remove extra spaces\n",
    "    text = re.sub(r'<.*?>', '', text)  # remove HTML tags\n",
    "    return text\n",
    "\n",
    "full_df['Markdown'] = full_df['Markdown'].apply(clean_text)\n",
    "full_df['Short Title'] = full_df['Short Title'].apply(clean_text)\n"
   ]
  },
  {
   "cell_type": "code",
   "execution_count": 20,
   "id": "d57eae8d",
   "metadata": {},
   "outputs": [],
   "source": [
    "full_df['Enactment Date'] = pd.to_datetime(full_df['Enactment Date'], errors='coerce')\n"
   ]
  },
  {
   "cell_type": "code",
   "execution_count": 22,
   "id": "4c0136f5",
   "metadata": {},
   "outputs": [
    {
     "data": {
      "text/html": [
       "<div>\n",
       "<style scoped>\n",
       "    .dataframe tbody tr th:only-of-type {\n",
       "        vertical-align: middle;\n",
       "    }\n",
       "\n",
       "    .dataframe tbody tr th {\n",
       "        vertical-align: top;\n",
       "    }\n",
       "\n",
       "    .dataframe thead th {\n",
       "        text-align: right;\n",
       "    }\n",
       "</style>\n",
       "<table border=\"1\" class=\"dataframe\">\n",
       "  <thead>\n",
       "    <tr style=\"text-align: right;\">\n",
       "      <th></th>\n",
       "      <th>Enactment Date</th>\n",
       "      <th>Act Number</th>\n",
       "      <th>Short Title</th>\n",
       "      <th>View</th>\n",
       "      <th>Entity</th>\n",
       "      <th>Markdown</th>\n",
       "    </tr>\n",
       "  </thead>\n",
       "  <tbody>\n",
       "    <tr>\n",
       "      <th>0</th>\n",
       "      <td>1838-03-14</td>\n",
       "      <td>05</td>\n",
       "      <td>the bengal bonded warehouse association act, 1838</td>\n",
       "      <td>https://www.indiacode.nic.in/bitstream/1234567...</td>\n",
       "      <td>central</td>\n",
       "      <td># the bengal bonded warehouse association act ...</td>\n",
       "    </tr>\n",
       "    <tr>\n",
       "      <th>1</th>\n",
       "      <td>1838-08-27</td>\n",
       "      <td>19</td>\n",
       "      <td>the coasting vessels act, 1838</td>\n",
       "      <td>https://www.indiacode.nic.in/bitstream/1234567...</td>\n",
       "      <td>central</td>\n",
       "      <td># the coasting-vessels act, 1838 __________ ar...</td>\n",
       "    </tr>\n",
       "    <tr>\n",
       "      <th>2</th>\n",
       "      <td>1839-03-18</td>\n",
       "      <td>07</td>\n",
       "      <td>the madras rent and revenue sales act, 1839</td>\n",
       "      <td>https://www.indiacode.nic.in/bitstream/1234567...</td>\n",
       "      <td>central</td>\n",
       "      <td>the madras rent and revenue sales act, 1839 __...</td>\n",
       "    </tr>\n",
       "    <tr>\n",
       "      <th>3</th>\n",
       "      <td>1842-10-28</td>\n",
       "      <td>13</td>\n",
       "      <td>the revenue, bombay, 1842</td>\n",
       "      <td>https://www.indiacode.nic.in/bitstream/1234567...</td>\n",
       "      <td>central</td>\n",
       "      <td># the revenue, bombay, 1842 __________ act no....</td>\n",
       "    </tr>\n",
       "    <tr>\n",
       "      <th>4</th>\n",
       "      <td>1842-12-16</td>\n",
       "      <td>17</td>\n",
       "      <td>the revenue commissioners, bombay act, 1842</td>\n",
       "      <td>https://www.indiacode.nic.in/bitstream/1234567...</td>\n",
       "      <td>central</td>\n",
       "      <td># the revenue commissioners, bombay act, 1842 ...</td>\n",
       "    </tr>\n",
       "  </tbody>\n",
       "</table>\n",
       "</div>"
      ],
      "text/plain": [
       "  Enactment Date Act Number  \\\n",
       "0     1838-03-14         05   \n",
       "1     1838-08-27         19   \n",
       "2     1839-03-18         07   \n",
       "3     1842-10-28         13   \n",
       "4     1842-12-16         17   \n",
       "\n",
       "                                         Short Title  \\\n",
       "0  the bengal bonded warehouse association act, 1838   \n",
       "1                     the coasting vessels act, 1838   \n",
       "2        the madras rent and revenue sales act, 1839   \n",
       "3                          the revenue, bombay, 1842   \n",
       "4        the revenue commissioners, bombay act, 1842   \n",
       "\n",
       "                                                View   Entity  \\\n",
       "0  https://www.indiacode.nic.in/bitstream/1234567...  central   \n",
       "1  https://www.indiacode.nic.in/bitstream/1234567...  central   \n",
       "2  https://www.indiacode.nic.in/bitstream/1234567...  central   \n",
       "3  https://www.indiacode.nic.in/bitstream/1234567...  central   \n",
       "4  https://www.indiacode.nic.in/bitstream/1234567...  central   \n",
       "\n",
       "                                            Markdown  \n",
       "0  # the bengal bonded warehouse association act ...  \n",
       "1  # the coasting-vessels act, 1838 __________ ar...  \n",
       "2  the madras rent and revenue sales act, 1839 __...  \n",
       "3  # the revenue, bombay, 1842 __________ act no....  \n",
       "4  # the revenue commissioners, bombay act, 1842 ...  "
      ]
     },
     "execution_count": 22,
     "metadata": {},
     "output_type": "execute_result"
    }
   ],
   "source": [
    "full_df.head(5)"
   ]
  },
  {
   "cell_type": "code",
   "execution_count": null,
   "id": "9f6fae76",
   "metadata": {},
   "outputs": [],
   "source": []
  }
 ],
 "metadata": {
  "kernelspec": {
   "display_name": "venv",
   "language": "python",
   "name": "python3"
  },
  "language_info": {
   "codemirror_mode": {
    "name": "ipython",
    "version": 3
   },
   "file_extension": ".py",
   "mimetype": "text/x-python",
   "name": "python",
   "nbconvert_exporter": "python",
   "pygments_lexer": "ipython3",
   "version": "3.10.12"
  }
 },
 "nbformat": 4,
 "nbformat_minor": 5
}
