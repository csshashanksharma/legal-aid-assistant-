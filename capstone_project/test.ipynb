{
 "cells": [
  {
   "cell_type": "code",
   "execution_count": 1,
   "id": "2617ae5f",
   "metadata": {},
   "outputs": [
    {
     "name": "stderr",
     "output_type": "stream",
     "text": [
      "d:\\Capstone Project - Legal Aid for Marginalised Communities\\legal-aid-assistant-\\venv\\lib\\site-packages\\tqdm\\auto.py:21: TqdmWarning: IProgress not found. Please update jupyter and ipywidgets. See https://ipywidgets.readthedocs.io/en/stable/user_install.html\n",
      "  from .autonotebook import tqdm as notebook_tqdm\n"
     ]
    }
   ],
   "source": [
    "from datasets import load_dataset\n",
    "\n",
    "ds = load_dataset(\"geekyrakshit/indian-legal-acts\")"
   ]
  },
  {
   "cell_type": "code",
   "execution_count": 2,
   "id": "2eca1f50",
   "metadata": {},
   "outputs": [
    {
     "name": "stdout",
     "output_type": "stream",
     "text": [
      "dict_keys(['central', 'andaman_and_nicobar_islands', 'andhra_pradesh', 'arunachal_pradesh'])\n"
     ]
    }
   ],
   "source": [
    "print(ds.keys())"
   ]
  },
  {
   "cell_type": "code",
   "execution_count": 3,
   "id": "cc505294",
   "metadata": {},
   "outputs": [
    {
     "name": "stdout",
     "output_type": "stream",
     "text": [
      "DatasetDict({\n",
      "    central: Dataset({\n",
      "        features: ['Enactment Date', 'Act Number', 'Short Title', 'View', 'Entity', 'Markdown'],\n",
      "        num_rows: 883\n",
      "    })\n",
      "    andaman_and_nicobar_islands: Dataset({\n",
      "        features: ['Enactment Date', 'Act Number', 'Short Title', 'View', 'Entity', 'Markdown'],\n",
      "        num_rows: 66\n",
      "    })\n",
      "    andhra_pradesh: Dataset({\n",
      "        features: ['Enactment Date', 'Act Number', 'Short Title', 'View', 'Entity', 'Markdown'],\n",
      "        num_rows: 323\n",
      "    })\n",
      "    arunachal_pradesh: Dataset({\n",
      "        features: ['Enactment Date', 'Act Number', 'Short Title', 'View', 'Entity', 'Markdown'],\n",
      "        num_rows: 1111\n",
      "    })\n",
      "})\n"
     ]
    }
   ],
   "source": [
    "print(ds)  # ds is your loaded dataset object"
   ]
  },
  {
   "cell_type": "code",
   "execution_count": 4,
   "id": "8f040b5b",
   "metadata": {},
   "outputs": [
    {
     "name": "stdout",
     "output_type": "stream",
     "text": [
      "  Enactment Date Act Number  \\\n",
      "0    14-Mar-1838         05   \n",
      "1    27-Aug-1838         19   \n",
      "2    18-Mar-1839         07   \n",
      "3    28-Oct-1842         13   \n",
      "4    16-Dec-1842         17   \n",
      "\n",
      "                                         Short Title  \\\n",
      "0  The Bengal Bonded Warehouse Association Act, 1838   \n",
      "1                     The Coasting vessels Act, 1838   \n",
      "2        The Madras Rent and Revenue Sales Act, 1839   \n",
      "3                          The Revenue, Bombay, 1842   \n",
      "4        The Revenue Commissioners, Bombay Act, 1842   \n",
      "\n",
      "                                                View   Entity  \\\n",
      "0  https://www.indiacode.nic.in/bitstream/1234567...  central   \n",
      "1  https://www.indiacode.nic.in/bitstream/1234567...  central   \n",
      "2  https://www.indiacode.nic.in/bitstream/1234567...  central   \n",
      "3  https://www.indiacode.nic.in/bitstream/1234567...  central   \n",
      "4  https://www.indiacode.nic.in/bitstream/1234567...  central   \n",
      "\n",
      "                                            Markdown  \n",
      "0  # THE BENGAL BONDED WAREHOUSE ASSOCIATION ACT\\...  \n",
      "1  # THE COASTING-VESSELS ACT, 1838\\n __________\\...  \n",
      "2  THE MADRAS RENT AND REVENUE SALES ACT, 1839\\n\\...  \n",
      "3  # THE REVENUE, BOMBAY, 1842\\n __________\\n\\n A...  \n",
      "4  # THE REVENUE COMMISSIONERS, BOMBAY ACT, 1842\\...  \n",
      "<class 'pandas.core.frame.DataFrame'>\n",
      "RangeIndex: 883 entries, 0 to 882\n",
      "Data columns (total 6 columns):\n",
      " #   Column          Non-Null Count  Dtype \n",
      "---  ------          --------------  ----- \n",
      " 0   Enactment Date  883 non-null    object\n",
      " 1   Act Number      883 non-null    object\n",
      " 2   Short Title     883 non-null    object\n",
      " 3   View            883 non-null    object\n",
      " 4   Entity          883 non-null    object\n",
      " 5   Markdown        881 non-null    object\n",
      "dtypes: object(6)\n",
      "memory usage: 41.5+ KB\n",
      "None\n",
      "       Enactment Date Act Number                       Short Title  \\\n",
      "count             883        883                               883   \n",
      "unique            739         85                               882   \n",
      "top       23-Jun-2005         30  The Powers-of Attorney Act, 1882   \n",
      "freq                6         24                                 2   \n",
      "\n",
      "                                                     View   Entity  \\\n",
      "count                                                 883      883   \n",
      "unique                                                881        1   \n",
      "top     https://www.indiacode.nic.in/bitstream/1234567...  central   \n",
      "freq                                                    2      883   \n",
      "\n",
      "                                                 Markdown  \n",
      "count                                                 881  \n",
      "unique                                                881  \n",
      "top     # THE BENGAL BONDED WAREHOUSE ASSOCIATION ACT\\...  \n",
      "freq                                                    1  \n"
     ]
    }
   ],
   "source": [
    "# For example, inspect 'central'\n",
    "import pandas as pd\n",
    "central_df = pd.DataFrame(ds['central'])\n",
    "print(central_df.head())\n",
    "print(central_df.info())   # column types and missing values\n",
    "print(central_df.describe())  # summary stats for numeric columns (if any)\n"
   ]
  },
  {
   "cell_type": "code",
   "execution_count": 5,
   "id": "cb961295",
   "metadata": {},
   "outputs": [
    {
     "name": "stdout",
     "output_type": "stream",
     "text": [
      "  Enactment Date Act Number  \\\n",
      "0    14-Mar-1838         05   \n",
      "1    27-Aug-1838         19   \n",
      "2    18-Mar-1839         07   \n",
      "3    28-Oct-1842         13   \n",
      "4    16-Dec-1842         17   \n",
      "\n",
      "                                         Short Title  \\\n",
      "0  The Bengal Bonded Warehouse Association Act, 1838   \n",
      "1                     The Coasting vessels Act, 1838   \n",
      "2        The Madras Rent and Revenue Sales Act, 1839   \n",
      "3                          The Revenue, Bombay, 1842   \n",
      "4        The Revenue Commissioners, Bombay Act, 1842   \n",
      "\n",
      "                                                View   Entity  \\\n",
      "0  https://www.indiacode.nic.in/bitstream/1234567...  central   \n",
      "1  https://www.indiacode.nic.in/bitstream/1234567...  central   \n",
      "2  https://www.indiacode.nic.in/bitstream/1234567...  central   \n",
      "3  https://www.indiacode.nic.in/bitstream/1234567...  central   \n",
      "4  https://www.indiacode.nic.in/bitstream/1234567...  central   \n",
      "\n",
      "                                            Markdown  \n",
      "0  # THE BENGAL BONDED WAREHOUSE ASSOCIATION ACT\\...  \n",
      "1  # THE COASTING-VESSELS ACT, 1838\\n __________\\...  \n",
      "2  THE MADRAS RENT AND REVENUE SALES ACT, 1839\\n\\...  \n",
      "3  # THE REVENUE, BOMBAY, 1842\\n __________\\n\\n A...  \n",
      "4  # THE REVENUE COMMISSIONERS, BOMBAY ACT, 1842\\...  \n"
     ]
    }
   ],
   "source": [
    "# Access one key (say central)\n",
    "import pandas as pd\n",
    "df_central = pd.DataFrame(ds['central'])\n",
    "print(df_central.head(5))\n"
   ]
  },
  {
   "cell_type": "code",
   "execution_count": 6,
   "id": "11fd76f3",
   "metadata": {},
   "outputs": [
    {
     "name": "stdout",
     "output_type": "stream",
     "text": [
      "Columns in central: ['Enactment Date', 'Act Number', 'Short Title', 'View', 'Entity', 'Markdown']\n",
      "Columns in andaman_and_nicobar_islands: ['Enactment Date', 'Act Number', 'Short Title', 'View', 'Entity', 'Markdown']\n",
      "Columns in andhra_pradesh: ['Enactment Date', 'Act Number', 'Short Title', 'View', 'Entity', 'Markdown']\n",
      "Columns in arunachal_pradesh: ['Enactment Date', 'Act Number', 'Short Title', 'View', 'Entity', 'Markdown']\n"
     ]
    }
   ],
   "source": [
    "for key in ds.keys():\n",
    "    print(f\"Columns in {key}: {ds[key].column_names}\")"
   ]
  },
  {
   "cell_type": "code",
   "execution_count": 7,
   "id": "7202763f",
   "metadata": {},
   "outputs": [
    {
     "name": "stdout",
     "output_type": "stream",
     "text": [
      "(2383, 6)\n",
      "  Enactment Date Act Number  \\\n",
      "0    14-Mar-1838         05   \n",
      "1    27-Aug-1838         19   \n",
      "2    18-Mar-1839         07   \n",
      "3    28-Oct-1842         13   \n",
      "4    16-Dec-1842         17   \n",
      "\n",
      "                                         Short Title  \\\n",
      "0  The Bengal Bonded Warehouse Association Act, 1838   \n",
      "1                     The Coasting vessels Act, 1838   \n",
      "2        The Madras Rent and Revenue Sales Act, 1839   \n",
      "3                          The Revenue, Bombay, 1842   \n",
      "4        The Revenue Commissioners, Bombay Act, 1842   \n",
      "\n",
      "                                                View   Entity  \\\n",
      "0  https://www.indiacode.nic.in/bitstream/1234567...  central   \n",
      "1  https://www.indiacode.nic.in/bitstream/1234567...  central   \n",
      "2  https://www.indiacode.nic.in/bitstream/1234567...  central   \n",
      "3  https://www.indiacode.nic.in/bitstream/1234567...  central   \n",
      "4  https://www.indiacode.nic.in/bitstream/1234567...  central   \n",
      "\n",
      "                                            Markdown  \n",
      "0  # THE BENGAL BONDED WAREHOUSE ASSOCIATION ACT\\...  \n",
      "1  # THE COASTING-VESSELS ACT, 1838\\n __________\\...  \n",
      "2  THE MADRAS RENT AND REVENUE SALES ACT, 1839\\n\\...  \n",
      "3  # THE REVENUE, BOMBAY, 1842\\n __________\\n\\n A...  \n",
      "4  # THE REVENUE COMMISSIONERS, BOMBAY ACT, 1842\\...  \n"
     ]
    }
   ],
   "source": [
    "all_dfs = [pd.DataFrame(ds[key]) for key in ds.keys()]\n",
    "full_df = pd.concat(all_dfs, ignore_index=True)\n",
    "print(full_df.shape)\n",
    "print(full_df.head())"
   ]
  },
  {
   "cell_type": "code",
   "execution_count": 8,
   "id": "5e48cc80",
   "metadata": {},
   "outputs": [
    {
     "name": "stdout",
     "output_type": "stream",
     "text": [
      "(2378, 6)\n"
     ]
    }
   ],
   "source": [
    "full_df = full_df.dropna(subset=['Markdown'])\n",
    "print(full_df.shape)"
   ]
  },
  {
   "cell_type": "code",
   "execution_count": 9,
   "id": "1e120f10",
   "metadata": {},
   "outputs": [
    {
     "name": "stdout",
     "output_type": "stream",
     "text": [
      "Enactment Date    0\n",
      "Act Number        0\n",
      "Short Title       0\n",
      "View              0\n",
      "Entity            0\n",
      "Markdown          0\n",
      "dtype: int64\n"
     ]
    }
   ],
   "source": [
    "print(full_df.isnull().sum())\n"
   ]
  },
  {
   "cell_type": "code",
   "execution_count": 10,
   "id": "b213dec6",
   "metadata": {},
   "outputs": [
    {
     "data": {
      "text/html": [
       "<div>\n",
       "<style scoped>\n",
       "    .dataframe tbody tr th:only-of-type {\n",
       "        vertical-align: middle;\n",
       "    }\n",
       "\n",
       "    .dataframe tbody tr th {\n",
       "        vertical-align: top;\n",
       "    }\n",
       "\n",
       "    .dataframe thead th {\n",
       "        text-align: right;\n",
       "    }\n",
       "</style>\n",
       "<table border=\"1\" class=\"dataframe\">\n",
       "  <thead>\n",
       "    <tr style=\"text-align: right;\">\n",
       "      <th></th>\n",
       "      <th>Enactment Date</th>\n",
       "      <th>Act Number</th>\n",
       "      <th>Short Title</th>\n",
       "      <th>View</th>\n",
       "      <th>Entity</th>\n",
       "      <th>Markdown</th>\n",
       "    </tr>\n",
       "  </thead>\n",
       "  <tbody>\n",
       "    <tr>\n",
       "      <th>0</th>\n",
       "      <td>14-Mar-1838</td>\n",
       "      <td>05</td>\n",
       "      <td>The Bengal Bonded Warehouse Association Act, 1838</td>\n",
       "      <td>https://www.indiacode.nic.in/bitstream/1234567...</td>\n",
       "      <td>central</td>\n",
       "      <td># THE BENGAL BONDED WAREHOUSE ASSOCIATION ACT\\...</td>\n",
       "    </tr>\n",
       "    <tr>\n",
       "      <th>1</th>\n",
       "      <td>27-Aug-1838</td>\n",
       "      <td>19</td>\n",
       "      <td>The Coasting vessels Act, 1838</td>\n",
       "      <td>https://www.indiacode.nic.in/bitstream/1234567...</td>\n",
       "      <td>central</td>\n",
       "      <td># THE COASTING-VESSELS ACT, 1838\\n __________\\...</td>\n",
       "    </tr>\n",
       "    <tr>\n",
       "      <th>2</th>\n",
       "      <td>18-Mar-1839</td>\n",
       "      <td>07</td>\n",
       "      <td>The Madras Rent and Revenue Sales Act, 1839</td>\n",
       "      <td>https://www.indiacode.nic.in/bitstream/1234567...</td>\n",
       "      <td>central</td>\n",
       "      <td>THE MADRAS RENT AND REVENUE SALES ACT, 1839\\n\\...</td>\n",
       "    </tr>\n",
       "    <tr>\n",
       "      <th>3</th>\n",
       "      <td>28-Oct-1842</td>\n",
       "      <td>13</td>\n",
       "      <td>The Revenue, Bombay, 1842</td>\n",
       "      <td>https://www.indiacode.nic.in/bitstream/1234567...</td>\n",
       "      <td>central</td>\n",
       "      <td># THE REVENUE, BOMBAY, 1842\\n __________\\n\\n A...</td>\n",
       "    </tr>\n",
       "    <tr>\n",
       "      <th>4</th>\n",
       "      <td>16-Dec-1842</td>\n",
       "      <td>17</td>\n",
       "      <td>The Revenue Commissioners, Bombay Act, 1842</td>\n",
       "      <td>https://www.indiacode.nic.in/bitstream/1234567...</td>\n",
       "      <td>central</td>\n",
       "      <td># THE REVENUE COMMISSIONERS, BOMBAY ACT, 1842\\...</td>\n",
       "    </tr>\n",
       "    <tr>\n",
       "      <th>5</th>\n",
       "      <td>7-Jan-1846</td>\n",
       "      <td>03</td>\n",
       "      <td>The Boundary-Marks, Bombay 1846</td>\n",
       "      <td>https://www.indiacode.nic.in/bitstream/1234567...</td>\n",
       "      <td>central</td>\n",
       "      <td># THE BOUNDARY-MARKS, BOMBAY 1846\\n\\nACT NO. I...</td>\n",
       "    </tr>\n",
       "    <tr>\n",
       "      <th>6</th>\n",
       "      <td>23-Sep-1848</td>\n",
       "      <td>20</td>\n",
       "      <td>The Bengal Land Holder's Attendance Act, 1848</td>\n",
       "      <td>https://www.indiacode.nic.in/bitstream/1234567...</td>\n",
       "      <td>central</td>\n",
       "      <td># THE BENGAL LAND HOLDER’ ATTENDANCE ACT, 1848...</td>\n",
       "    </tr>\n",
       "    <tr>\n",
       "      <th>7</th>\n",
       "      <td>26-May-1849</td>\n",
       "      <td>10</td>\n",
       "      <td>The Madras Board of Revenue,1849</td>\n",
       "      <td>https://www.indiacode.nic.in/bitstream/1234567...</td>\n",
       "      <td>central</td>\n",
       "      <td># MADRAS.—BOARD OF REVENUE.\\n\\n ACT NO. X OF 1...</td>\n",
       "    </tr>\n",
       "    <tr>\n",
       "      <th>8</th>\n",
       "      <td>14-Jun-1850</td>\n",
       "      <td>25</td>\n",
       "      <td>The Forfeited Deposits Act, 1850</td>\n",
       "      <td>https://www.indiacode.nic.in/bitstream/1234567...</td>\n",
       "      <td>central</td>\n",
       "      <td># THE FORFEITED DEPOSITS ACT, 1850\\n\\n## _____...</td>\n",
       "    </tr>\n",
       "    <tr>\n",
       "      <th>9</th>\n",
       "      <td>21-Jun-1850</td>\n",
       "      <td>26</td>\n",
       "      <td>The Improvements in Towns Act, 1850</td>\n",
       "      <td>https://www.indiacode.nic.in/bitstream/1234567...</td>\n",
       "      <td>central</td>\n",
       "      <td># THE IMPROVEMENTS IN TOWNS ACT, 1850\\n\\nACT N...</td>\n",
       "    </tr>\n",
       "  </tbody>\n",
       "</table>\n",
       "</div>"
      ],
      "text/plain": [
       "  Enactment Date Act Number  \\\n",
       "0    14-Mar-1838         05   \n",
       "1    27-Aug-1838         19   \n",
       "2    18-Mar-1839         07   \n",
       "3    28-Oct-1842         13   \n",
       "4    16-Dec-1842         17   \n",
       "5     7-Jan-1846         03   \n",
       "6    23-Sep-1848         20   \n",
       "7    26-May-1849         10   \n",
       "8    14-Jun-1850         25   \n",
       "9    21-Jun-1850         26   \n",
       "\n",
       "                                         Short Title  \\\n",
       "0  The Bengal Bonded Warehouse Association Act, 1838   \n",
       "1                     The Coasting vessels Act, 1838   \n",
       "2        The Madras Rent and Revenue Sales Act, 1839   \n",
       "3                          The Revenue, Bombay, 1842   \n",
       "4        The Revenue Commissioners, Bombay Act, 1842   \n",
       "5                    The Boundary-Marks, Bombay 1846   \n",
       "6      The Bengal Land Holder's Attendance Act, 1848   \n",
       "7                   The Madras Board of Revenue,1849   \n",
       "8                   The Forfeited Deposits Act, 1850   \n",
       "9                The Improvements in Towns Act, 1850   \n",
       "\n",
       "                                                View   Entity  \\\n",
       "0  https://www.indiacode.nic.in/bitstream/1234567...  central   \n",
       "1  https://www.indiacode.nic.in/bitstream/1234567...  central   \n",
       "2  https://www.indiacode.nic.in/bitstream/1234567...  central   \n",
       "3  https://www.indiacode.nic.in/bitstream/1234567...  central   \n",
       "4  https://www.indiacode.nic.in/bitstream/1234567...  central   \n",
       "5  https://www.indiacode.nic.in/bitstream/1234567...  central   \n",
       "6  https://www.indiacode.nic.in/bitstream/1234567...  central   \n",
       "7  https://www.indiacode.nic.in/bitstream/1234567...  central   \n",
       "8  https://www.indiacode.nic.in/bitstream/1234567...  central   \n",
       "9  https://www.indiacode.nic.in/bitstream/1234567...  central   \n",
       "\n",
       "                                            Markdown  \n",
       "0  # THE BENGAL BONDED WAREHOUSE ASSOCIATION ACT\\...  \n",
       "1  # THE COASTING-VESSELS ACT, 1838\\n __________\\...  \n",
       "2  THE MADRAS RENT AND REVENUE SALES ACT, 1839\\n\\...  \n",
       "3  # THE REVENUE, BOMBAY, 1842\\n __________\\n\\n A...  \n",
       "4  # THE REVENUE COMMISSIONERS, BOMBAY ACT, 1842\\...  \n",
       "5  # THE BOUNDARY-MARKS, BOMBAY 1846\\n\\nACT NO. I...  \n",
       "6  # THE BENGAL LAND HOLDER’ ATTENDANCE ACT, 1848...  \n",
       "7  # MADRAS.—BOARD OF REVENUE.\\n\\n ACT NO. X OF 1...  \n",
       "8  # THE FORFEITED DEPOSITS ACT, 1850\\n\\n## _____...  \n",
       "9  # THE IMPROVEMENTS IN TOWNS ACT, 1850\\n\\nACT N...  "
      ]
     },
     "execution_count": 10,
     "metadata": {},
     "output_type": "execute_result"
    }
   ],
   "source": [
    "full_df.head(10)"
   ]
  },
  {
   "cell_type": "code",
   "execution_count": 11,
   "id": "c4fc2bd9",
   "metadata": {},
   "outputs": [],
   "source": [
    "import re\n",
    "\n",
    "def clean_text(text):\n",
    "    text = str(text).lower()\n",
    "    text = re.sub(r'\\s+', ' ', text)  # remove extra spaces\n",
    "    text = re.sub(r'<.*?>', '', text)  # remove HTML tags\n",
    "    return text\n",
    "\n",
    "full_df['Markdown'] = full_df['Markdown'].apply(clean_text)\n",
    "full_df['Short Title'] = full_df['Short Title'].apply(clean_text)\n"
   ]
  },
  {
   "cell_type": "code",
   "execution_count": null,
   "id": "d57eae8d",
   "metadata": {},
   "outputs": [],
   "source": [
    "full_df['Enactment Date'] = pd.to_datetime(full_df['Enactment Date'], errors='coerce')"
   ]
  },
  {
   "cell_type": "code",
   "execution_count": 16,
   "id": "4c0136f5",
   "metadata": {},
   "outputs": [
    {
     "data": {
      "text/html": [
       "<div>\n",
       "<style scoped>\n",
       "    .dataframe tbody tr th:only-of-type {\n",
       "        vertical-align: middle;\n",
       "    }\n",
       "\n",
       "    .dataframe tbody tr th {\n",
       "        vertical-align: top;\n",
       "    }\n",
       "\n",
       "    .dataframe thead th {\n",
       "        text-align: right;\n",
       "    }\n",
       "</style>\n",
       "<table border=\"1\" class=\"dataframe\">\n",
       "  <thead>\n",
       "    <tr style=\"text-align: right;\">\n",
       "      <th></th>\n",
       "      <th>Enactment Date</th>\n",
       "      <th>Act Number</th>\n",
       "      <th>Short Title</th>\n",
       "      <th>View</th>\n",
       "      <th>Entity</th>\n",
       "      <th>Markdown</th>\n",
       "    </tr>\n",
       "  </thead>\n",
       "  <tbody>\n",
       "    <tr>\n",
       "      <th>0</th>\n",
       "      <td>1838-03-14</td>\n",
       "      <td>05</td>\n",
       "      <td>the bengal bonded warehouse association act, 1838</td>\n",
       "      <td>https://www.indiacode.nic.in/bitstream/1234567...</td>\n",
       "      <td>central</td>\n",
       "      <td># the bengal bonded warehouse association act ...</td>\n",
       "    </tr>\n",
       "    <tr>\n",
       "      <th>1</th>\n",
       "      <td>1838-08-27</td>\n",
       "      <td>19</td>\n",
       "      <td>the coasting vessels act, 1838</td>\n",
       "      <td>https://www.indiacode.nic.in/bitstream/1234567...</td>\n",
       "      <td>central</td>\n",
       "      <td># the coasting-vessels act, 1838 __________ ar...</td>\n",
       "    </tr>\n",
       "    <tr>\n",
       "      <th>2</th>\n",
       "      <td>1839-03-18</td>\n",
       "      <td>07</td>\n",
       "      <td>the madras rent and revenue sales act, 1839</td>\n",
       "      <td>https://www.indiacode.nic.in/bitstream/1234567...</td>\n",
       "      <td>central</td>\n",
       "      <td>the madras rent and revenue sales act, 1839 __...</td>\n",
       "    </tr>\n",
       "    <tr>\n",
       "      <th>3</th>\n",
       "      <td>1842-10-28</td>\n",
       "      <td>13</td>\n",
       "      <td>the revenue, bombay, 1842</td>\n",
       "      <td>https://www.indiacode.nic.in/bitstream/1234567...</td>\n",
       "      <td>central</td>\n",
       "      <td># the revenue, bombay, 1842 __________ act no....</td>\n",
       "    </tr>\n",
       "    <tr>\n",
       "      <th>4</th>\n",
       "      <td>1842-12-16</td>\n",
       "      <td>17</td>\n",
       "      <td>the revenue commissioners, bombay act, 1842</td>\n",
       "      <td>https://www.indiacode.nic.in/bitstream/1234567...</td>\n",
       "      <td>central</td>\n",
       "      <td># the revenue commissioners, bombay act, 1842 ...</td>\n",
       "    </tr>\n",
       "  </tbody>\n",
       "</table>\n",
       "</div>"
      ],
      "text/plain": [
       "  Enactment Date Act Number  \\\n",
       "0     1838-03-14         05   \n",
       "1     1838-08-27         19   \n",
       "2     1839-03-18         07   \n",
       "3     1842-10-28         13   \n",
       "4     1842-12-16         17   \n",
       "\n",
       "                                         Short Title  \\\n",
       "0  the bengal bonded warehouse association act, 1838   \n",
       "1                     the coasting vessels act, 1838   \n",
       "2        the madras rent and revenue sales act, 1839   \n",
       "3                          the revenue, bombay, 1842   \n",
       "4        the revenue commissioners, bombay act, 1842   \n",
       "\n",
       "                                                View   Entity  \\\n",
       "0  https://www.indiacode.nic.in/bitstream/1234567...  central   \n",
       "1  https://www.indiacode.nic.in/bitstream/1234567...  central   \n",
       "2  https://www.indiacode.nic.in/bitstream/1234567...  central   \n",
       "3  https://www.indiacode.nic.in/bitstream/1234567...  central   \n",
       "4  https://www.indiacode.nic.in/bitstream/1234567...  central   \n",
       "\n",
       "                                            Markdown  \n",
       "0  # the bengal bonded warehouse association act ...  \n",
       "1  # the coasting-vessels act, 1838 __________ ar...  \n",
       "2  the madras rent and revenue sales act, 1839 __...  \n",
       "3  # the revenue, bombay, 1842 __________ act no....  \n",
       "4  # the revenue commissioners, bombay act, 1842 ...  "
      ]
     },
     "execution_count": 16,
     "metadata": {},
     "output_type": "execute_result"
    }
   ],
   "source": [
    "full_df.head(5)"
   ]
  },
  {
   "cell_type": "code",
   "execution_count": 12,
   "id": "620ccb5c",
   "metadata": {},
   "outputs": [
    {
     "name": "stderr",
     "output_type": "stream",
     "text": [
      "The cache for model files in Transformers v4.22.0 has been updated. Migrating your old cache. This is a one-time only operation. You can interrupt this and resume the migration later on by calling `transformers.utils.move_cache()`.\n",
      "0it [00:00, ?it/s]\n",
      "d:\\Capstone Project - Legal Aid for Marginalised Communities\\legal-aid-assistant-\\venv\\lib\\site-packages\\huggingface_hub\\file_download.py:143: UserWarning: `huggingface_hub` cache-system uses symlinks by default to efficiently store duplicated files but your machine does not support them in C:\\Users\\Admin\\.cache\\huggingface\\hub\\models--sentence-transformers--all-mpnet-base-v2. Caching files will still work but in a degraded version that might require more space on your disk. This warning can be disabled by setting the `HF_HUB_DISABLE_SYMLINKS_WARNING` environment variable. For more details, see https://huggingface.co/docs/huggingface_hub/how-to-cache#limitations.\n",
      "To support symlinks on Windows, you either need to activate Developer Mode or to run Python as an administrator. In order to activate developer mode, see this article: https://docs.microsoft.com/en-us/windows/apps/get-started/enable-your-device-for-development\n",
      "  warnings.warn(message)\n",
      "Xet Storage is enabled for this repo, but the 'hf_xet' package is not installed. Falling back to regular HTTP download. For better performance, install the package with: `pip install huggingface_hub[hf_xet]` or `pip install hf_xet`\n",
      "Batches: 100%|██████████| 75/75 [06:40<00:00,  5.34s/it]"
     ]
    },
    {
     "name": "stdout",
     "output_type": "stream",
     "text": [
      "Number of vectors in index: 2378\n",
      "\n",
      "Score: 0.49850699305534363\n",
      "Short Title + Markdown: the revenue, bombay, 1842 # the revenue, bombay, 1842 __________ act no.13 of 1842 _________ _passed by the hon’ble the president of the council of india in council, on the 28[th] of october, 1842, with_ _the assent of the right hon’ble the governor general of india._ an act to enable the holders of ...\n",
      "Metadata: {'Enactment Date': '28-Oct-1842', 'Act Number': '13', 'Short Title': 'the revenue, bombay, 1842', 'View': 'https://www.indiacode.nic.in/bitstream/123456789/18945/1/a1842-13.pdf', 'Entity': 'central'}\n",
      "\n",
      "Score: 0.5169731378555298\n",
      "Short Title + Markdown: the revenue commissioners, bombay act, 1842 # the revenue commissioners, bombay act, 1842 act no. 17 of 1842. _----------------------------_ _passed by the hon’ble the president of the council of india in council, on the 16th of december, 1842,_ _with the assent of the right hon’ble the governor gen ...\n",
      "Metadata: {'Enactment Date': '16-Dec-1842', 'Act Number': '17', 'Short Title': 'the revenue commissioners, bombay act, 1842', 'View': 'https://www.indiacode.nic.in/bitstream/123456789/18946/1/a1842-17.pdf', 'Entity': 'central'}\n",
      "\n",
      "Score: 0.615347146987915\n",
      "Short Title + Markdown: the taxation laws (continuation and validation of recovery proceedings) act, 1964 # the taxation laws (continuation and validation of recovery proceedings) act, 1964 __________ arrangement of sections __________ sections 1. short title. 2. definitions. 3. continuation and validation of certain proce ...\n",
      "Metadata: {'Enactment Date': '12-May-1964', 'Act Number': '11', 'Short Title': 'the taxation laws (continuation and validation of recovery proceedings) act, 1964', 'View': 'https://www.indiacode.nic.in/bitstream/123456789/1427/2/A1964-11.pdf', 'Entity': 'central'}\n"
     ]
    },
    {
     "name": "stderr",
     "output_type": "stream",
     "text": [
      "\n"
     ]
    }
   ],
   "source": [
    "import pandas as pd\n",
    "from sentence_transformers import SentenceTransformer\n",
    "import faiss\n",
    "import numpy as np\n",
    "\n",
    "# -------------------------------\n",
    "# 2️⃣ Prepare the data\n",
    "# We'll combine 'Short Title' and 'Markdown' for embeddings\n",
    "full_df['text_to_embed'] = full_df['Short Title'] + \" \" + full_df['Markdown']\n",
    "\n",
    "# Optional: keep metadata (like Enactment Date, Act Number, View link, Entity)\n",
    "metadata_list = full_df[['Enactment Date','Act Number','Short Title','View','Entity']].to_dict(orient='records')\n",
    "\n",
    "# -------------------------------\n",
    "# 3️⃣ Load the embedding model\n",
    "model = SentenceTransformer('all-mpnet-base-v2')  # free and strong\n",
    "\n",
    "# -------------------------------\n",
    "# 4️⃣ Generate embeddings\n",
    "texts = full_df['text_to_embed'].tolist()\n",
    "embeddings = model.encode(texts, show_progress_bar=True, convert_to_numpy=True)\n",
    "\n",
    "# -------------------------------\n",
    "# 5️⃣ Create FAISS index\n",
    "dimension = embeddings.shape[1]  # 768 for mpnet\n",
    "index = faiss.IndexFlatL2(dimension)  # L2 distance index\n",
    "index.add(embeddings)  # add vectors\n",
    "\n",
    "print(f\"Number of vectors in index: {index.ntotal}\")\n",
    "\n",
    "# -------------------------------\n",
    "# 6️⃣ Define a search function\n",
    "def semantic_search(query, k=5):\n",
    "    # Embed the query\n",
    "    query_vec = model.encode([query], convert_to_numpy=True)\n",
    "    \n",
    "    # Search in FAISS\n",
    "    distances, indices = index.search(query_vec, k)\n",
    "    \n",
    "    # Return results with metadata\n",
    "    results = []\n",
    "    for i, idx in enumerate(indices[0]):\n",
    "        result = {\n",
    "            \"score\": float(distances[0][i]),\n",
    "            \"text\": texts[idx],\n",
    "            \"metadata\": metadata_list[idx]\n",
    "        }\n",
    "        results.append(result)\n",
    "    return results\n",
    "\n",
    "# -------------------------------\n",
    "# 7️⃣ Test search\n",
    "query = \"acts related to revenue in Bombay\"\n",
    "results = semantic_search(query, k=3)\n",
    "for r in results:\n",
    "    print(\"\\nScore:\", r['score'])\n",
    "    print(\"Short Title + Markdown:\", r['text'][:300], \"...\")\n",
    "    print(\"Metadata:\", r['metadata'])"
   ]
  },
  {
   "cell_type": "code",
   "execution_count": 13,
   "id": "9e9a1dce",
   "metadata": {},
   "outputs": [
    {
     "name": "stdout",
     "output_type": "stream",
     "text": [
      "✅ All saved successfully!\n",
      "Files stored in: d:\\Capstone Project - Legal Aid for Marginalised Communities\\legal-aid-assistant-\\capstone_project\\vector_store\n"
     ]
    }
   ],
   "source": [
    "import numpy as np\n",
    "import pickle\n",
    "import faiss\n",
    "import os\n",
    "\n",
    "# Make folder for saved files\n",
    "save_dir = \"vector_store\"\n",
    "os.makedirs(save_dir, exist_ok=True)\n",
    "\n",
    "# Paths\n",
    "embeddings_path = os.path.join(save_dir, \"embeddings.npy\")\n",
    "faiss_index_path = os.path.join(save_dir, \"legal_acts_index.faiss\")\n",
    "metadata_path = os.path.join(save_dir, \"metadata.pkl\")\n",
    "\n",
    "# --- Save ---\n",
    "np.save(embeddings_path, embeddings)\n",
    "faiss.write_index(index, faiss_index_path)\n",
    "pickle.dump(metadata_list, open(metadata_path, \"wb\"))\n",
    "\n",
    "print(\"✅ All saved successfully!\")\n",
    "print(f\"Files stored in: {os.path.abspath(save_dir)}\")\n"
   ]
  },
  {
   "cell_type": "code",
   "execution_count": null,
   "id": "c412f68f",
   "metadata": {},
   "outputs": [],
   "source": []
  }
 ],
 "metadata": {
  "kernelspec": {
   "display_name": "venv",
   "language": "python",
   "name": "python3"
  },
  "language_info": {
   "codemirror_mode": {
    "name": "ipython",
    "version": 3
   },
   "file_extension": ".py",
   "mimetype": "text/x-python",
   "name": "python",
   "nbconvert_exporter": "python",
   "pygments_lexer": "ipython3",
   "version": "3.8.2"
  }
 },
 "nbformat": 4,
 "nbformat_minor": 5
}
